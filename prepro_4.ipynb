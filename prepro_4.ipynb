{
 "cells": [
  {
   "cell_type": "code",
   "execution_count": 2,
   "metadata": {},
   "outputs": [],
   "source": [
    "import pandas as pd\n",
    "import numpy as np\n",
    "import requests\n",
    "import json\n",
    "import bs4 as bs\n",
    "import urllib.request\n",
    "from tmdbv3api import TMDb, Movie"
   ]
  },
  {
   "cell_type": "markdown",
   "metadata": {},
   "source": [
    "## Note: In this notebook we will build a whole pipeline based on the previous notebook - prepro_3"
   ]
  },
  {
   "cell_type": "code",
   "execution_count": 5,
   "metadata": {},
   "outputs": [],
   "source": [
    "link_2019 = \"https://en.wikipedia.org/wiki/List_of_American_films_of_2019\"\n",
    "link_2020 = \"https://en.wikipedia.org/wiki/List_of_American_films_of_2020\"\n",
    "link_2021 = \"https://en.wikipedia.org/wiki/List_of_American_films_of_2021\""
   ]
  },
  {
   "cell_type": "markdown",
   "metadata": {},
   "source": [
    "#### API settings"
   ]
  },
  {
   "cell_type": "code",
   "execution_count": 83,
   "metadata": {},
   "outputs": [],
   "source": [
    "tmdb = TMDb()\n",
    "tmdb.api_key = \"b01e862aa12fef25be50f4cb0582263f\"\n",
    "tmdb.language = \"en\"\n",
    "tmdb.debug = True\n",
    "tmdb_movie = Movie"
   ]
  },
  {
   "cell_type": "markdown",
   "metadata": {},
   "source": [
    "#### Scrape the data from Wikipedia"
   ]
  },
  {
   "cell_type": "code",
   "execution_count": 84,
   "metadata": {},
   "outputs": [],
   "source": [
    "def scrape_data_to_df(link):\n",
    "    source = urllib.request.urlopen(link).read()\n",
    "    soup = bs.BeautifulSoup(source, \"lxml\")\n",
    "    tables = soup.find_all(\"table\", class_=\"wikitable sortable\")\n",
    "    jan_mar_title = soup.find(id=\"January–March\").get_text()\n",
    "    apr_jun_title = soup.find(id=\"April–June\").get_text()\n",
    "    jul_sep_title = soup.find(id=\"July–September\").get_text()\n",
    "    oct_dec_title = soup.find(id=\"October–December\").get_text()\n",
    "    print(f\"Scraped movies from the following months: {jan_mar_title}, {apr_jun_title}, {jul_sep_title}, {oct_dec_title}.\")\n",
    "    print(f\"{len(tables)} tables in total.\")\n",
    "    \n",
    "    return tables\n",
    "    #tables_to_df(tables)\n",
    "    #print(df)"
   ]
  },
  {
   "cell_type": "code",
   "execution_count": 76,
   "metadata": {},
   "outputs": [
    {
     "name": "stdout",
     "output_type": "stream",
     "text": [
      "Scraped movies from the following months: January–March, April–June, July–September, October–December.\n",
      "4 tables in total.\n"
     ]
    }
   ],
   "source": [
    "scraped_data = scrape_data_to_df(link_2019)"
   ]
  },
  {
   "cell_type": "markdown",
   "metadata": {},
   "source": [
    "#### Create a dataframe from the scrapped tables"
   ]
  },
  {
   "cell_type": "code",
   "execution_count": 85,
   "metadata": {},
   "outputs": [],
   "source": [
    "def tables_to_df(tables):\n",
    "    df1 = pd.read_html(str(tables[0]))[0]\n",
    "    df2 = pd.read_html(str(tables[1]))[0]\n",
    "    df3 = pd.read_html(str(tables[2]))[0]\n",
    "    df4 = pd.read_html(str(tables[3]))[0]\n",
    "    \n",
    "    df = df1.append(df2.append(df3.append(df4, ignore_index=True), ignore_index=True), ignore_index=True)\n",
    "    return df"
   ]
  },
  {
   "cell_type": "code",
   "execution_count": 86,
   "metadata": {},
   "outputs": [
    {
     "data": {
      "text/html": [
       "<div>\n",
       "<style scoped>\n",
       "    .dataframe tbody tr th:only-of-type {\n",
       "        vertical-align: middle;\n",
       "    }\n",
       "\n",
       "    .dataframe tbody tr th {\n",
       "        vertical-align: top;\n",
       "    }\n",
       "\n",
       "    .dataframe thead th {\n",
       "        text-align: right;\n",
       "    }\n",
       "</style>\n",
       "<table border=\"1\" class=\"dataframe\">\n",
       "  <thead>\n",
       "    <tr style=\"text-align: right;\">\n",
       "      <th></th>\n",
       "      <th>Opening</th>\n",
       "      <th>Opening.1</th>\n",
       "      <th>Title</th>\n",
       "      <th>Production company</th>\n",
       "      <th>Cast and crew</th>\n",
       "      <th>Ref.</th>\n",
       "    </tr>\n",
       "  </thead>\n",
       "  <tbody>\n",
       "    <tr>\n",
       "      <th>0</th>\n",
       "      <td>JANUARY</td>\n",
       "      <td>4</td>\n",
       "      <td>Escape Room</td>\n",
       "      <td>Columbia Pictures</td>\n",
       "      <td>Adam Robitel (director); Bragi F. Schut, Maria...</td>\n",
       "      <td>[2]</td>\n",
       "    </tr>\n",
       "    <tr>\n",
       "      <th>1</th>\n",
       "      <td>JANUARY</td>\n",
       "      <td>4</td>\n",
       "      <td>Rust Creek</td>\n",
       "      <td>IFC Films</td>\n",
       "      <td>Jen McGowan (director); Julie Lipson (screenpl...</td>\n",
       "      <td>[3]</td>\n",
       "    </tr>\n",
       "    <tr>\n",
       "      <th>2</th>\n",
       "      <td>JANUARY</td>\n",
       "      <td>4</td>\n",
       "      <td>American Hangman</td>\n",
       "      <td>Hangman Justice Productions</td>\n",
       "      <td>Wilson Coneybeare (director/screenplay); Donal...</td>\n",
       "      <td>[4]</td>\n",
       "    </tr>\n",
       "    <tr>\n",
       "      <th>3</th>\n",
       "      <td>JANUARY</td>\n",
       "      <td>11</td>\n",
       "      <td>A Dog's Way Home</td>\n",
       "      <td>Columbia Pictures</td>\n",
       "      <td>Charles Martin Smith (director); W. Bruce Came...</td>\n",
       "      <td>[5]</td>\n",
       "    </tr>\n",
       "    <tr>\n",
       "      <th>4</th>\n",
       "      <td>JANUARY</td>\n",
       "      <td>11</td>\n",
       "      <td>The Upside</td>\n",
       "      <td>STX Entertainment</td>\n",
       "      <td>Neil Burger (director); Jon Hartmere (screenpl...</td>\n",
       "      <td>[6]</td>\n",
       "    </tr>\n",
       "    <tr>\n",
       "      <th>...</th>\n",
       "      <td>...</td>\n",
       "      <td>...</td>\n",
       "      <td>...</td>\n",
       "      <td>...</td>\n",
       "      <td>...</td>\n",
       "      <td>...</td>\n",
       "    </tr>\n",
       "    <tr>\n",
       "      <th>237</th>\n",
       "      <td>DECEMBER</td>\n",
       "      <td>25</td>\n",
       "      <td>Spies in Disguise</td>\n",
       "      <td>20th Century Fox / Blue Sky Studios / Chernin ...</td>\n",
       "      <td>Nick Bruno, Troy Quane (directors); Brad Copel...</td>\n",
       "      <td>[132]</td>\n",
       "    </tr>\n",
       "    <tr>\n",
       "      <th>238</th>\n",
       "      <td>DECEMBER</td>\n",
       "      <td>25</td>\n",
       "      <td>Little Women</td>\n",
       "      <td>Columbia Pictures / Regency Enterprises</td>\n",
       "      <td>Greta Gerwig (director/screenplay); Saoirse Ro...</td>\n",
       "      <td>[221]</td>\n",
       "    </tr>\n",
       "    <tr>\n",
       "      <th>239</th>\n",
       "      <td>DECEMBER</td>\n",
       "      <td>25</td>\n",
       "      <td>1917</td>\n",
       "      <td>Universal Pictures / DreamWorks Pictures / Ent...</td>\n",
       "      <td>Sam Mendes (director/screenplay); Krysty Wilso...</td>\n",
       "      <td>[222]</td>\n",
       "    </tr>\n",
       "    <tr>\n",
       "      <th>240</th>\n",
       "      <td>DECEMBER</td>\n",
       "      <td>25</td>\n",
       "      <td>Just Mercy</td>\n",
       "      <td>Warner Bros. Pictures / Participant Media</td>\n",
       "      <td>Destin Daniel Cretton (director/screenplay), A...</td>\n",
       "      <td>[223]</td>\n",
       "    </tr>\n",
       "    <tr>\n",
       "      <th>241</th>\n",
       "      <td>DECEMBER</td>\n",
       "      <td>27</td>\n",
       "      <td>Clemency</td>\n",
       "      <td>Neon</td>\n",
       "      <td>Chinonye Chukwu (director/screenplay); Alfre W...</td>\n",
       "      <td>[224]</td>\n",
       "    </tr>\n",
       "  </tbody>\n",
       "</table>\n",
       "<p>242 rows × 6 columns</p>\n",
       "</div>"
      ],
      "text/plain": [
       "      Opening  Opening.1              Title  \\\n",
       "0     JANUARY          4        Escape Room   \n",
       "1     JANUARY          4         Rust Creek   \n",
       "2     JANUARY          4   American Hangman   \n",
       "3     JANUARY         11   A Dog's Way Home   \n",
       "4     JANUARY         11         The Upside   \n",
       "..        ...        ...                ...   \n",
       "237  DECEMBER         25  Spies in Disguise   \n",
       "238  DECEMBER         25       Little Women   \n",
       "239  DECEMBER         25               1917   \n",
       "240  DECEMBER         25         Just Mercy   \n",
       "241  DECEMBER         27           Clemency   \n",
       "\n",
       "                                    Production company  \\\n",
       "0                                    Columbia Pictures   \n",
       "1                                            IFC Films   \n",
       "2                          Hangman Justice Productions   \n",
       "3                                    Columbia Pictures   \n",
       "4                                    STX Entertainment   \n",
       "..                                                 ...   \n",
       "237  20th Century Fox / Blue Sky Studios / Chernin ...   \n",
       "238            Columbia Pictures / Regency Enterprises   \n",
       "239  Universal Pictures / DreamWorks Pictures / Ent...   \n",
       "240          Warner Bros. Pictures / Participant Media   \n",
       "241                                               Neon   \n",
       "\n",
       "                                         Cast and crew   Ref.  \n",
       "0    Adam Robitel (director); Bragi F. Schut, Maria...    [2]  \n",
       "1    Jen McGowan (director); Julie Lipson (screenpl...    [3]  \n",
       "2    Wilson Coneybeare (director/screenplay); Donal...    [4]  \n",
       "3    Charles Martin Smith (director); W. Bruce Came...    [5]  \n",
       "4    Neil Burger (director); Jon Hartmere (screenpl...    [6]  \n",
       "..                                                 ...    ...  \n",
       "237  Nick Bruno, Troy Quane (directors); Brad Copel...  [132]  \n",
       "238  Greta Gerwig (director/screenplay); Saoirse Ro...  [221]  \n",
       "239  Sam Mendes (director/screenplay); Krysty Wilso...  [222]  \n",
       "240  Destin Daniel Cretton (director/screenplay), A...  [223]  \n",
       "241  Chinonye Chukwu (director/screenplay); Alfre W...  [224]  \n",
       "\n",
       "[242 rows x 6 columns]"
      ]
     },
     "execution_count": 86,
     "metadata": {},
     "output_type": "execute_result"
    }
   ],
   "source": [
    "tables_to_df(scraped_data)"
   ]
  },
  {
   "cell_type": "code",
   "execution_count": null,
   "metadata": {},
   "outputs": [],
   "source": []
  }
 ],
 "metadata": {
  "kernelspec": {
   "display_name": "rec_sys_movie_prepro_1",
   "language": "python",
   "name": "preprocess_1"
  },
  "language_info": {
   "codemirror_mode": {
    "name": "ipython",
    "version": 3
   },
   "file_extension": ".py",
   "mimetype": "text/x-python",
   "name": "python",
   "nbconvert_exporter": "python",
   "pygments_lexer": "ipython3",
   "version": "3.8.5"
  }
 },
 "nbformat": 4,
 "nbformat_minor": 4
}
